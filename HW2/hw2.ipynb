{
 "cells": [
  {
   "cell_type": "markdown",
   "metadata": {},
   "source": [
    "# Algorithmic Motion Planning (236610)\n",
    "John Noonan and Eli Shafer<br>\n",
    "Homework 2<br>\n",
    "December 2019"
   ]
  },
  {
   "cell_type": "markdown",
   "metadata": {},
   "source": [
    "### Warmup"
   ]
  },
  {
   "cell_type": "markdown",
   "metadata": {},
   "source": [
    "Question 1: In a 2-dimensional unit ball (namely, a disk), how much of the volume is located at most 0.1 units from the surface?\n",
    "\n",
    "**Answer: C Roughly 20%**"
   ]
  },
  {
   "cell_type": "markdown",
   "metadata": {},
   "source": [
    "Question 2: In a 9-dimensional unit ball, how much of the volume is located at most 0.1 units from the surface?\n",
    "\n",
    "**Answer: Roughly 60%**"
   ]
  },
  {
   "cell_type": "markdown",
   "metadata": {},
   "source": [
    "### Exercise"
   ]
  },
  {
   "cell_type": "markdown",
   "metadata": {},
   "source": [
    "Define the fraction of the volume that is $\\epsilon$ distance from the surface of a d-dimensional unit ball as $n_d(\\epsilon)$. "
   ]
  },
  {
   "cell_type": "markdown",
   "metadata": {},
   "source": [
    "**Plot** $\\eta_d(\\epsilon)$ as a function of $d$ for $\\epsilon = 0.2, 0.1, 0.01$ for $d = 2 ... 10$"
   ]
  },
  {
   "cell_type": "markdown",
   "metadata": {},
   "source": [
    "![plot_of_volume](ex_plot.png)"
   ]
  },
  {
   "cell_type": "markdown",
   "metadata": {},
   "source": [
    "**Discuss** the implications to reducing the connection radius required for a sampling-based algorithm to maintain asymptotic optimality."
   ]
  },
  {
   "cell_type": "markdown",
   "metadata": {},
   "source": [
    "This discussion is related to what we saw in class regarding the proof of probabilistic completeness for the PRM algorithm.  When proving asymptotic optimality for sampling-based algorithms, we typically take the path, cover it with balls where the radius of each ball is proportional to the clearance, and argue that within each ball, with high probability, we will get a sample and can connect two balls which will yield a free path since our connection radius is big enough.  It's important to note that the probabilistic argument depends on the volume of each one of the balls, and the notion of connection is critical because if the connection radius is too small, then there will be points in each ball but we **won't be able to connect them**.  In other words, if the connection radius is reduced too much then points will not be connected, nullifying our conclusions for asymptotic optimality.  On the other hand, if the connection radius is too large, then there will be too many points.  \n",
    "\n",
    "It is important to note that the majority of points in the high-dimensional situations are located on the surface of the ball, so most edges will be almost the size of the radius. And if the radius is taken to be slightly too large, then the effect of a bit off will be **exponentially more points** since most points lie on the surface area of the ball.  We can see this by the plot of $\\eta_d(\\epsilon)$ above.  The resultant effect is the algorithm running very slowly.\n",
    "\n",
    "Therefore, as we discussed in class, there has been a quest to determine the minimal connection radius or minimal expected number of nearest neighbors which are needed to determine certain desirable algorithmic properties."
   ]
  },
  {
   "cell_type": "markdown",
   "metadata": {},
   "source": [
    "### 3 Motion Planning: Search and Sampling"
   ]
  },
  {
   "cell_type": "markdown",
   "metadata": {},
   "source": [
    "#### 3.3 A* Implementation"
   ]
  },
  {
   "cell_type": "markdown",
   "metadata": {},
   "source": [
    "A* was implemented and tested on the given map with `-s 450 0 -g 50 400`"
   ]
  },
  {
   "cell_type": "markdown",
   "metadata": {},
   "source": [
    "#### Results\n",
    "In the following, results are presented. In graphs unexplored space is in white, obstacles in black, path in red, explored space in colour with blue as the smallest $f(n)$ where \n",
    "$$f(n) = g(n) + h(n)$$\n",
    "Where $g(n)$ is cost to node and $h(n)$ heuristic cost.\n",
    "\n",
    "##### $\\epsilon=1$\n",
    "![](./img/astar_wf_e1v2.png)\n",
    "expanded nodes: 18283\n",
    "cost:  251.45079348883246\n",
    "\n",
    "\n",
    "##### $\\epsilon=10$\n",
    "![](./img/astar_wf_e10v2.png)\n",
    "\n",
    "expanded nodes: 1924\n",
    "\n",
    "cost:  256.7228714274748\n",
    "\n",
    "\n",
    "##### $\\epsilon=20$\n",
    "![](./img/astar_wf_e20v2.png)\n",
    "\n",
    "expanded nodes: 2319\n",
    "\n",
    "cost:  256.72287142747473\n"
   ]
  },
  {
   "cell_type": "markdown",
   "metadata": {},
   "source": [
    "#### Discussion\n",
    "It can be clearly seen in the results that the number of nodes expanded first decreases but then increases again with increasing $\\epsilon$. With that comes the price of a less optimal path. It can also be seen with $\\epsilon \\gt 1$ that the wavefront opens up only once the algorithm encounters an obstacle."
   ]
  },
  {
   "cell_type": "markdown",
   "metadata": {},
   "source": [
    "#### RRT\n",
    "RRT were done 10 times for each configuration:\n",
    "\n",
    "\n",
    "##### Results for eta=5 and 5% goal sample probability:\n",
    "cost avg:  316.2772647824529\n",
    "\n",
    "cost stdev: 26.01204754785396\n",
    "\n",
    "time avg 1.7362622976303101\n",
    "\n",
    "time stdev: 1.560391613449739\n",
    "![](img/rrt_eta5_gs5.png)\n",
    "\n",
    "#### eta=5 and 20% goal sample probability:\n",
    "cost avg:  281.04154222795796\n",
    "\n",
    "cost stdev: 8.629722837915669\n",
    "\n",
    "time avg 1.923483920097351\n",
    "\n",
    "time stdev: 2.5501515976045384\n",
    "![](img/rrt_eta5_gs20.png)\n",
    "\n",
    "#### eta=inf and 5% goal sample probability:\n",
    "cost avg:  483.5162513868522\n",
    "\n",
    "cost stdev: 175.4014991263554\n",
    "\n",
    "time avg 1.9762953281402589\n",
    "\n",
    "time stdev: 3.1775145659089103\n",
    "![](img/rrt_eta_inf_gs5.png)\n",
    "\n",
    "#### eta=inf and 20% goal sample probability:\n",
    "cost avg:  419.0239271273325\n",
    "\n",
    "cost stdev: 76.96610786902902\n",
    "\n",
    "time avg 2.4456452131271362\n",
    "\n",
    "time stdev: 3.14332072198954\n",
    "![](img/rrt_eta_inf_gs20.png)"
   ]
  },
  {
   "cell_type": "markdown",
   "metadata": {},
   "source": [
    "#### RRT*\n",
    "5 times were done `0.1, 0.5, 1.0, 5.0, 10.0, 20` seconds. For each time there were 10 runs. Eta was set to 5.0 and goal sample was set to 5%.\n",
    "\n",
    "##### k = e * 1.5 * log(n) eta=5.0, goal bias = 5%\n",
    "For runtime of  0.1 secs\n",
    "success:  0\n",
    "\n",
    "For runtime of  0.5 secs\n",
    "cost: 235.65589670679068\n",
    "success:  1\n",
    "\n",
    "For runtime of  1.0 secs\n",
    "cost avg : 242.5866318945683\n",
    "cost stdev: 10.929796988149397\n",
    "success:  5\n",
    "\n",
    "For runtime of  5.0 secs\n",
    "cost avg : 244.5089908019645\n",
    "cost stdev: 7.8413280880352785\n",
    "success:  6\n",
    "\n",
    "For runtime of  10.0 secs\n",
    "cost avg : 239.07482823239076\n",
    "cost stdev: 3.9489758020819106\n",
    "success:  8\n",
    "\n",
    "For runtime of  20.0 secs\n",
    "cost avg : 239.0585859833887\n",
    "cost stdev: 3.161723092252165\n",
    "success:  10\n",
    "\n",
    "##### k = 30\n",
    "For runtime of  0.1 secs\n",
    "success:  0\n",
    "\n",
    "For runtime of  0.5 secs\n",
    "cost avg : 239.01435045295622\n",
    "cost stdev: 6.986089833879537\n",
    "success:  2\n",
    "\n",
    "For runtime of  1.0 secs\n",
    "cost avg : 241.1961555756157\n",
    "cost stdev: 1.2406913228961236\n",
    "success:  3\n",
    "\n",
    "For runtime of  5.0 secs\n",
    "cost avg : 237.9628117073482\n",
    "cost stdev: 7.286417311861117\n",
    "success:  5\n",
    "\n",
    "For runtime of  10.0 secs\n",
    "cost avg : 236.6976130136971\n",
    "cost stdev: 2.93456932678907\n",
    "success:  8\n",
    "\n",
    "For runtime of  20.0 secs\n",
    "cost avg : 238.7859043967406\n",
    "cost stdev: 4.353037493661774\n",
    "success:  8"
   ]
  },
  {
   "cell_type": "markdown",
   "metadata": {},
   "source": [
    "##### Path cost as a function of time for different runs:\n",
    "\n",
    "##### k=30\n",
    "cost at time: {0.1: None, 0.5: 237.30547593109716, 1.0: 237.30547593109716, 5.0: 237.30547593109716, 10.0: 237.30547593109716, 20.0: 237.30547593109716}\n",
    "cost at time: {0.1: None, 0.5: 242.67141529177982, 1.0: 242.67141529177982, 5.0: 242.67141529177982, 10.0: 239.31520202864033, 20.0: 238.8004622797099}\n",
    "\n",
    "###### k=log(n)\n",
    "cost at time: {0.1: None, 0.5: None, 1.0: None, 5.0: None, 10.0: 238.42702273026669, 20.0: 237.28024462554205}\n",
    "\n",
    "cost at time: {0.1: None, 0.5: None, 1.0: None, 5.0: None, 10.0: 234.80368947658934, 20.0: 234.80368947658934}\n",
    "\n",
    "cost at time: {0.1: None, 0.5: 242.67141529177982, 1.0: 242.67141529177982, 5.0: 242.67141529177982, 10.0: 239.31520202864033, 20.0: 238.8004622797099}\n",
    "\n",
    "cost at time: {0.1: None, 0.5: None, 1.0: 235.83349393293716, 5.0: 234.8175996875571, 10.0: 234.7142365998925, 20.0: 234.7142365998925}"
   ]
  },
  {
   "cell_type": "markdown",
   "metadata": {},
   "source": []
  }
 ],
 "metadata": {
  "kernelspec": {
   "display_name": "Python 3",
   "language": "python",
   "name": "python3"
  },
  "language_info": {
   "codemirror_mode": {
    "name": "ipython",
    "version": 3
   },
   "file_extension": ".py",
   "mimetype": "text/x-python",
   "name": "python",
   "nbconvert_exporter": "python",
   "pygments_lexer": "ipython3",
   "version": "3.6.9"
  },
  "pycharm": {
   "stem_cell": {
    "cell_type": "raw",
    "metadata": {
     "collapsed": false
    },
    "source": []
   }
  }
 },
 "nbformat": 4,
 "nbformat_minor": 2
}
