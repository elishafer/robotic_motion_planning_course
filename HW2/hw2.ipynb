{
 "cells": [
  {
   "cell_type": "markdown",
   "metadata": {},
   "source": [
    "# Algorithmic Motion Planning (236610)\n",
    "John Noonan and Eli Shafer<br>\n",
    "Homework 2<br>\n",
    "December 2019"
   ]
  },
  {
   "cell_type": "markdown",
   "metadata": {},
   "source": [
    "### Warmup"
   ]
  },
  {
   "cell_type": "markdown",
   "metadata": {},
   "source": [
    "Question 1: In a 2-dimensional unit ball (namely, a disk), how much of the volume is located at most 0.1 units from the surface?\n",
    "\n",
    "**Answer: Roughly 20%**"
   ]
  },
  {
   "cell_type": "markdown",
   "metadata": {},
   "source": [
    "Question 2: In a 9-dimensional unit ball, how much of the volume is located at most 0.1 units from the surface?\n",
    "\n",
    "**Answer: Roughly 60%**"
   ]
  },
  {
   "cell_type": "markdown",
   "metadata": {},
   "source": [
    "### Exercise"
   ]
  },
  {
   "cell_type": "markdown",
   "metadata": {},
   "source": [
    "Define the fraction of the volume that is $\\epsilon$ distance from the surface of a d-dimensional unit ball as $n_d(\\epsilon)$. "
   ]
  },
  {
   "cell_type": "markdown",
   "metadata": {},
   "source": [
    "**Plot** $\\eta_d(\\epsilon)$ as a function of $d$ for $\\epsilon = 0.2, 0.1, 0.01$ for $d = 2 ... 10$"
   ]
  },
  {
   "cell_type": "markdown",
   "metadata": {},
   "source": [
    "![plot_of_volume](img/ex_plot.png)"
   ]
  },
  {
   "cell_type": "markdown",
   "metadata": {},
   "source": [
    "**Discuss** the implications to reducing the connection radius required for a sampling-based algorithm to maintain asymptotic optimality."
   ]
  },
  {
   "cell_type": "markdown",
   "metadata": {},
   "source": [
    "This discussion is related to what we saw in class regarding the proof of probabilistic completeness for the PRM algorithm.  We take the path, cover it with balls where the radius of each ball is proportional to the clearance, and argue that within each ball, with high probability, we will get a sample and can connect two balls which will yield a free path since our connection radius is big enough.  It's important to note that the probabilistic argument depends on the volume of each one of the balls, and the notion of connection is critical because if the connection radius is too small, then there will be points in each ball but we **won't be able to connect them**.  In other words, if the connection radius is reduced too much then points will not be connected, nullifying our conclusions for asymptotic optimality.  On the other hand, if the connection radius is too large, then there will be too many points.  \n",
    "\n",
    "It is important to note that the majority of points in the high-dimensional situations are located on the surface of the ball, so most edges will be almost the size of the radius. And if the radius is taken to be slightly too large, then the effect of a bit off will be **exponentially more points** since most points lie on the surface area of the ball.  We can see this by the plot of $\\eta_d(\\epsilon)$ above.  The resultant effect is the algorithm running very slowly.\n",
    "\n",
    "Therefore, as we discussed in class, there has been a quest to determine the minimal connection radius or minimal expected number of nearest neighbors which are needed to determine certain desirable algorithmic properties."
   ]
  },
  {
   "cell_type": "markdown",
   "metadata": {},
   "source": [
    "### A* Implementation"
   ]
  },
  {
   "cell_type": "markdown",
   "metadata": {},
   "source": [
    "#### Results\n",
    "Unexplored space: white <br>\n",
    "Obstacles: black <br>\n",
    "Path: red <br>\n",
    "Explored space: violet $\\rightarrow$ yellow as $f(n)$ increases \n",
    "\n",
    "$f(n) = g(n) + h(n)$ where $g(n)$ is the actual cost to the node and $h(n)$ is the heuristic cost."
   ]
  },
  {
   "cell_type": "markdown",
   "metadata": {},
   "source": [
    "| Epsilon| Expanded Nodes | Cost | \n",
    "|---| --- | --- |\n",
    "|$\\epsilon=1$| 18283 | 251.45 |\n",
    "|$\\epsilon=10$| 1924| 256.72|\n",
    "|$\\epsilon=20$| 2319| 256.72|\n",
    "\n",
    "|Figure for $\\epsilon=1$ | Figure for $\\epsilon=10$ | Figure for $\\epsilon = 20$|\n",
    "|---|---|---|\n",
    "|![](img/astar_wf_e1v2.png)|![](./img/astar_wf_e10v2.png)|![](./img/astar_wf_e20v2.png)|\n",
    "\n"
   ]
  },
  {
   "cell_type": "markdown",
   "metadata": {},
   "source": [
    "#### Discussion\n",
    "\n",
    "It can be seen in the results that the number of nodes expanded first decreases but then increases again with increasing $\\epsilon$.  As a result of increasing $\\epsilon$, the  path becomes less optimal. It can also be seen that with $\\epsilon \\gt 1$, the wavefront opens up once the algorithm encounters an obstacle which helps explain the decreasing and then increasing effect of the number of expanded nodes when $\\epsilon$ increases."
   ]
  },
  {
   "cell_type": "markdown",
   "metadata": {},
   "source": [
    "### RRT"
   ]
  },
  {
   "cell_type": "markdown",
   "metadata": {},
   "source": [
    "#### Results for E1 and $p_{bias} = 0.05$\n",
    "\n",
    "| | Cost | Time (s) | \n",
    "|----|----|----|\n",
    "|Avg | 415.3 | 0.62 |\n",
    "|Stdev | 93.59 | 1.06 | \n"
   ]
  },
  {
   "cell_type": "markdown",
   "metadata": {},
   "source": [
    "#### Results for E1 and $p_{bias} = 0.2$\n",
    "\n",
    "| | Cost | Time (s) | \n",
    "|----|----|----|\n",
    "|Avg | 393.46 | 2.11 |\n",
    "|Stdev | 69.78 | 2.32 | "
   ]
  },
  {
   "cell_type": "markdown",
   "metadata": {},
   "source": [
    "#### Results for E2 ($\\eta = 5$) and $p_{bias} = 0.05$\n",
    "\n",
    "| | Cost | Time (s) | \n",
    "|----|----|----|\n",
    "|Avg | 316.13 | 0.41 |\n",
    "|Stdev | 88.80 | 0.61 | "
   ]
  },
  {
   "cell_type": "markdown",
   "metadata": {},
   "source": [
    "#### Results for E2 ($\\eta = 5)$ and $p_{bias} = 0.2$\n",
    "\n",
    "| | Cost | Time (s) | \n",
    "|----|----|----|\n",
    "|Avg | 295.32 | 2.49 |\n",
    "|Stdev | 40.96 | 4.00 |"
   ]
  },
  {
   "cell_type": "markdown",
   "metadata": {},
   "source": [
    "| E1 Figures | E2 Figures | \n",
    "|------------| ------------------------|\n",
    "|![](img/rrt_E1_bias_5.png)|![](img/rrt_E2_bias_5.png)|\n",
    "|![](img/rrt_E1_bias_20.png)|![](img/rrt_E2_bias_20.png)|"
   ]
  },
  {
   "cell_type": "markdown",
   "metadata": {},
   "source": [
    "### Discussion"
   ]
  },
  {
   "cell_type": "markdown",
   "metadata": {},
   "source": [
    "As can be seen above, using an extend strategy which has a fixed step-size yields results which have lower cost, lower computation time, higher quality paths, and lower standard deviation in the cost.  Therefore, we would employ E2 (the fixed step-size extend strategy) in practice."
   ]
  },
  {
   "cell_type": "markdown",
   "metadata": {},
   "source": [
    "### RRT*"
   ]
  },
  {
   "cell_type": "markdown",
   "metadata": {},
   "source": [
    "|Parameters for plots below | Values |\n",
    "| --- | --- | \n",
    "| Times | 0.1, 0.5, 1.0, 5.0, 7.5, 10.0, 15.0, 20.0|\n",
    "| $\\eta$ | 5.0 | \n",
    "| $p_{bias}$ | 0.05 | \n",
    "| $k = \\mathcal{O}(\\log{(n)})$ | $1.5e \\cdot \\log{(n)}$ |\n",
    "| $k = constant$ | k = 3, 5, 10, 20, 30, 40|"
   ]
  },
  {
   "cell_type": "markdown",
   "metadata": {},
   "source": [
    "### Results for $k = \\mathcal{O}(\\log{n})$"
   ]
  },
  {
   "cell_type": "code",
   "execution_count": 2,
   "metadata": {},
   "outputs": [],
   "source": [
    "import numpy as np \n",
    "import matplotlib.pyplot as plt\n",
    "%matplotlib inline"
   ]
  },
  {
   "cell_type": "code",
   "execution_count": 9,
   "metadata": {},
   "outputs": [
    {
     "data": {
      "image/png": "[encoded data removed]",
      "text/plain": [
       "<Figure size 432x288 with 1 Axes>"
      ]
     },
     "metadata": {
      "needs_background": "light"
     },
     "output_type": "display_data"
    }
   ],
   "source": [
    "times = np.array([0.1, 0.5, 1.0, 5.0, 7.5, 10.0, 15.0, 20.0])\n",
    "\n",
    "success_rates_3 = np.array([0.0, 0.4, 0.4, 0.8, 0.8, 0.9, 0.8, 0.9])\n",
    "success_rates_5 = np.array([0.08, 0.32, 0.5, 0.66, 0.76, 0.86, 0.82, 0.92])\n",
    "success_rates_10 = np.array([0.04, 0.3, 0.36, 0.66, 0.72, 0.84, 0.9, 0.92])\n",
    "success_rates_20 = np.array([0.0, 0.34, 0.38, 0.74, 0.78, 0.8, 0.96, 0.92])\n",
    "success_rates_30 = np.array([0.0, 0.28, 0.42, 0.6, 0.58, 0.8, 0.86, 0.9])\n",
    "success_rates_40 = np.array([0.0, 0.3, 0.3, 0.6, 0.7, 0.8, 0.8, 0.9])\n",
    "success_rates_log = np.array([0.0, 0.42, 0.28, 0.58, 0.74, 0.64, 0.78, 0.9])\n",
    "\n",
    "plt.figure()\n",
    "plt.plot(times, success_rates_3, \"yo-\", label=\"k = 3\")\n",
    "plt.plot(times, success_rates_5, \"ro-\", label=\"k = 5\")\n",
    "plt.plot(times, success_rates_10, \"go-\", label=\"k = 10\")\n",
    "plt.plot(times, success_rates_20, \"bo-\", label=\"k = 20\")\n",
    "plt.plot(times, success_rates_30, \"mo-\", label=\"k = 30\")\n",
    "plt.plot(times, success_rates_40, \"ko-\", label=\"k = 40\")\n",
    "plt.plot(times, success_rates_log, \"co-\", label=\"k = 1.5elog(n)\")\n",
    "plt.ylabel(\"Success Rate\")\n",
    "plt.xlabel(\"Time [sec]\")\n",
    "plt.title(r\"Success Rate Plot\")\n",
    "plt.legend()\n",
    "plt.show()\n"
   ]
  },
  {
   "cell_type": "code",
   "execution_count": 10,
   "metadata": {},
   "outputs": [
    {
     "data": {
      "image/png": "[encoded data removed]",
      "text/plain": [
       "<Figure size 432x288 with 1 Axes>"
      ]
     },
     "metadata": {
      "needs_background": "light"
     },
     "output_type": "display_data"
    }
   ],
   "source": [
    "times = np.array([0.1, 0.5, 1.0, 5.0, 7.5, 10.0, 15.0, 20.0])\n",
    "\n",
    "costs_3 = np.array([None, 283.9479222976942, 283.9479222976942, 283.9479222976942, 283.9479222976942, 283.9479222976942, 283.9479222976942, 283.9479222976942])\n",
    "costs_5 = np.array([None, None, None, None, None, 340.1357461153312, 340.1357461153312, 340.1357461153312])\n",
    "costs_10 = np.array([None, 264.924355598082, 264.924355598082, 264.924355598082, 264.924355598082, 264.924355598082, 264.924355598082, 264.924355598082])\n",
    "costs_20 = np.array([None, None, None, 255.03345056123908, 255.03345056123908, 255.03345056123908, 255.03345056123908, 255.03345056123908])\n",
    "costs_30 = np.array([None, 236.69376099845812, 236.69376099845812, 236.69376099845812, 236.69376099845812, 236.69376099845812, 236.69376099845812, 236.69376099845812])\n",
    "costs_40 = np.array([None, None, None, 241.56891893048805, 241.56891893048805, 241.56891893048805, 238.09264994728085, 238.02237601106518])\n",
    "costs_log = np.array([None, 238.41441319830372, 238.41441319830372, 235.92675117474764, 235.92675117474764, 235.92675117474764, 235.92675117474764, 235.28556278539367])\n",
    "\n",
    "plt.plot(times, costs_3, \"yo-\", label=\"k = 3\")\n",
    "plt.plot(times, costs_5, \"ro-\", label=\"k = 5\")\n",
    "plt.plot(times, costs_10, \"go-\", label=\"k = 10\")\n",
    "plt.plot(times, costs_20, \"bo-\", label=\"k = 20\")\n",
    "plt.plot(times, costs_30, \"mo-\", label=\"k = 30\")\n",
    "plt.plot(times, costs_40, \"ko-\", label=\"k = 40\")\n",
    "plt.plot(times, costs_log, \"co-\", label=\"k = 1.5elog(n)\")\n",
    "\n",
    "plt.ylabel(\"Solution Quality\")\n",
    "plt.xlabel(\"Time [sec]\")\n",
    "plt.title(r\"Solution Quality Plot\")\n",
    "plt.legend()\n",
    "plt.show()\n",
    "\n",
    "\n",
    "\n"
   ]
  },
  {
   "cell_type": "markdown",
   "metadata": {},
   "source": [
    "### Discussion"
   ]
  },
  {
   "cell_type": "markdown",
   "metadata": {},
   "source": [
    "In understanding the plot above, it is beneficial to think about the asymptotic trends.  As can be seen above, when $k$ is small, the quality does not improve as time increases because the radius is not big enough.  However, what is interesting to see is that when $k$ is larger (e.g. $k = 40$) we do see that the quality starts to improve later on. We also see the logarithmic $k$ improving at a later time as well but by a less amount (slower pace).  A possible explanation for the above behavior is that there is a certain threshold for the value of $k$ (between 30 and 40 in the data above) where the RRT* algorithm becomes asymptotically optimal.   "
   ]
  }
 ],
 "metadata": {
  "kernelspec": {
   "display_name": "Python 3",
   "language": "python",
   "name": "python3"
  },
  "language_info": {
   "codemirror_mode": {
    "name": "ipython",
    "version": 3
   },
   "file_extension": ".py",
   "mimetype": "text/x-python",
   "name": "python",
   "nbconvert_exporter": "python",
   "pygments_lexer": "ipython3",
   "version": "3.6.9"
  },
  "pycharm": {
   "stem_cell": {
    "cell_type": "raw",
    "metadata": {
     "collapsed": false
    },
    "source": []
   }
  }
 },
 "nbformat": 4,
 "nbformat_minor": 2
}
