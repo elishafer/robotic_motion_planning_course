{
 "cells": [
  {
   "cell_type": "markdown",
   "metadata": {},
   "source": [
    "# Algorithmic Motion Planning (236610)\n",
    "John Noonan and Eli Shafer<br>\n",
    "Homework 2<br>\n",
    "December 2019"
   ]
  },
  {
   "cell_type": "markdown",
   "metadata": {},
   "source": [
    "### Warmup"
   ]
  },
  {
   "cell_type": "markdown",
   "metadata": {},
   "source": [
    "Question 1: In a 2-dimensional unit ball (namely, a disk), how much of the volume is located at most 0.1 units from the surface?\n",
    "\n",
    "**Answer: C Roughly 20%**"
   ]
  },
  {
   "cell_type": "markdown",
   "metadata": {},
   "source": [
    "Question 2: In a 9-dimensional unit ball, how much of the volume is located at most 0.1 units from the surface?\n",
    "\n",
    "**Answer: Roughly 60%**"
   ]
  },
  {
   "cell_type": "markdown",
   "metadata": {},
   "source": [
    "### Exercise"
   ]
  },
  {
   "cell_type": "markdown",
   "metadata": {},
   "source": [
    "Define the fraction of the volume that is $\\epsilon$ distance from the surface of a d-dimensional unit ball as $n_d(\\epsilon)$. "
   ]
  },
  {
   "cell_type": "markdown",
   "metadata": {},
   "source": [
    "**Plot** $\\eta_d(\\epsilon)$ as a function of $d$ for $\\epsilon = 0.2, 0.1, 0.01$ for $d = 2 ... 10$"
   ]
  },
  {
   "cell_type": "markdown",
   "metadata": {},
   "source": [
    "![plot_of_volume](ex_plot.png)"
   ]
  },
  {
   "cell_type": "markdown",
   "metadata": {},
   "source": [
    "**Discuss** the implications to reducing the connection radius required for a sampling-based algorithm to maintain asymptotic optimality."
   ]
  },
  {
   "cell_type": "markdown",
   "metadata": {},
   "source": [
    "*This discussion is related to what we saw in class regarding the proof of probabilistic completeness for the PRM algorithm.  When proving asymptotic optimality for sampling-based algorithms, we typically take the path, cover it with balls where the radius of each ball is proportional to the clearance, and argue that within each ball, with high probability, we will get a sample and can connect two balls which will yield a free path since our connection radius is big enough.  It's important to note that the probabilistic argument depends on the volume of each one of the balls, and the notion of connection is critical because if the connection radius is too small, then there will be points in each ball but we **won't be able to connect them**.  In other words, if the connection radius is reduced too much then points will not be connected, nullifying our conclusions for asymptotic optimality.  On the other hand, if the connection radius is too large, then there will be too many points. Therefore, as we discussed, there has been a quest to determine the minimal connection radius or minimal expected number of nearest neighbors which are needed to determine certain desirable algorithmic properties.*"
   ]
  },
  {
   "cell_type": "markdown",
   "metadata": {},
   "source": [
    "### 3 Motion Planning: Search and Sampling"
   ]
  },
  {
   "cell_type": "markdown",
   "metadata": {},
   "source": [
    "#### 3.3 A* Implementation"
   ]
  },
  {
   "cell_type": "markdown",
   "metadata": {},
   "source": [
    "A* was implemented and tested on the given map with `-s 450 0 -g 50 400`"
   ]
  },
  {
   "cell_type": "markdown",
   "metadata": {},
   "source": [
    "#### Results\n",
    "In the following, results are presented. In graphs unexplored space is in white, obstacles in black, path in red, explored space in colour with blue as the smallest $f(n)$ where \n",
    "$$f(n) = g(n) + h(n)$$\n",
    "Where $g(n)$ is cost to node and $h(n)$ heuristic cost.\n",
    "\n",
    "##### $\\epsilon=1$\n",
    "![](./img/astar_wf_e1.png)\n",
    "expanded nodes: 18283\n",
    "cost:  251.45079348883246\n",
    "\n",
    "\n",
    "##### $\\epsilon=10$\n",
    "![](./img/astar_wf_e10.png)\n",
    "\n",
    "expanded nodes: 26981\n",
    "\n",
    "cost:  775.0580079512716\n",
    "\n",
    "\n",
    "##### $\\epsilon=20$\n",
    "![](./img/astar_wf_e20.png)\n",
    "\n",
    "expanded nodes: 26165\n",
    "\n",
    "cost:  779.2001435750027\n"
   ]
  },
  {
   "cell_type": "markdown",
   "metadata": {},
   "source": [
    "#### Discussion\n",
    "It can be clearly seen in the results that the number of nodes expanded decreases with an increasing $\\epsilon$. With that comes the price of a less optimal path. It can also be seen with $\\epsilon \\gt 1$ that the wavefront opens up only once the algorithm encounters an obstacle."
   ]
  },
  {
   "cell_type": "markdown",
   "metadata": {},
   "source": []
  },
  {
   "cell_type": "markdown",
   "metadata": {},
   "source": []
  },
  {
   "cell_type": "markdown",
   "metadata": {},
   "source": []
  },
  {
   "cell_type": "markdown",
   "metadata": {},
   "source": []
  }
 ],
 "metadata": {
  "kernelspec": {
   "display_name": "Python 3",
   "language": "python",
   "name": "python3"
  },
  "language_info": {
   "codemirror_mode": {
    "name": "ipython",
    "version": 3
   },
   "file_extension": ".py",
   "mimetype": "text/x-python",
   "name": "python",
   "nbconvert_exporter": "python",
   "pygments_lexer": "ipython3",
   "version": "3.6.8"
  },
  "pycharm": {
   "stem_cell": {
    "cell_type": "raw",
    "source": [],
    "metadata": {
     "collapsed": false
    }
   }
  }
 },
 "nbformat": 4,
 "nbformat_minor": 2
}