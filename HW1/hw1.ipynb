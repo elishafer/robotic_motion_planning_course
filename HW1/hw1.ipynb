{
 "cells": [
  {
   "cell_type": "markdown",
   "metadata": {},
   "source": [
    "# Algorithmic Motion Planning (236610)\n",
    "John Noonan and Eli Shafer<br>\n",
    "Homework 1<br>\n",
    "November 2019"
   ]
  },
  {
   "cell_type": "markdown",
   "metadata": {},
   "source": [
    "*QUESTION 1*: *Given sets A, B, and C formally* **Prove** *that $A \\oplus (B \\cup C) = (A \\oplus B) \\cup (A \\oplus C)$*"
   ]
  },
  {
   "cell_type": "markdown",
   "metadata": {},
   "source": [
    "**Proof**:"
   ]
  },
  {
   "cell_type": "markdown",
   "metadata": {},
   "source": [
    "Let $p \\in A \\oplus (B \\cup C)$.  \n",
    "\n",
    "Then $\\exists q \\in A$ and $\\exists r \\in (B \\cup C)$ s.t. $p = q + r$ (according to the definition of the Minkowski sum). \n",
    "\n",
    "If $r \\in B$, then $A \\oplus (B \\cup C) = A \\oplus B$.  \n",
    "\n",
    "Or if $r \\in C$, then $A \\oplus (B \\cup C) = A \\oplus C$.  \n",
    "\n",
    "Thus, $A \\oplus (B \\cup C) = (A \\oplus B) \\cup (A \\oplus C)$. \n",
    "<p style='text-align: right;'> $\\blacksquare$ </p>"
   ]
  },
  {
   "cell_type": "markdown",
   "metadata": {},
   "source": [
    "*QUESTION 2*: **What** is the Minkowski sum (what geometry object and what can you say about it) of (i) Two points? (ii) A point and a line? (iii) Two lines (think of all possible cases)? (iv) Two Disks?"
   ]
  },
  {
   "cell_type": "markdown",
   "metadata": {},
   "source": [
    "**Answer 2**:"
   ]
  },
  {
   "cell_type": "markdown",
   "metadata": {},
   "source": [
    "i) The Minkowski sum of two points is another point. If $P = \\{p_1\\}$ and $Q = \\{q_1\\}$ for $p_1, q_1 \\in \\mathbb{R}^d$ then $P \\oplus Q$ = $\\{p_1+q_1\\}$ where $(p_1 + q_1) \\in \\mathbb{R}^d$."
   ]
  },
  {
   "cell_type": "markdown",
   "metadata": {},
   "source": [
    "ii) The Minkowski sum of a point and a line is the line translated by the point.  \n",
    "\n",
    "This can be shown via parameterization. Let $\\mathbf{p}$ and $\\mathbf{q}$ be vector functions defined as: $\\mathbf{p}(t) = p + t\\mathbf{v}$ where $t \\in \\mathbb{R}$ and $p,\\mathbf{v} \\in \\mathbb{R}^d$ and $\\mathbf{q}(r) = q + r\\mathbf{w}$ where $r \\in \\mathbb{R}$ and $q,\\mathbf{w} \\in \\mathbb{R}^d$.  Then the Minkowski sum of a line and point can be parametrically represented by vector functions $\\mathbf{p}$ and $\\mathbf{q}$ such that $\\mathbf{p}(t) \\oplus \\mathbf{q}(0) = p + q + t\\mathbf{v} = (p + q) + t\\mathbf{v}$, thus corresponding to the line translated by the point."
   ]
  },
  {
   "cell_type": "markdown",
   "metadata": {},
   "source": [
    "iii) If the lines are parallel, then the Minkowski sum is a line with the same direction (slope).  If we consider line *segments* then the Minkowski sum of the parallel lines will be a line longer in length but again with the same direction (slope). If the lines are perpendicular, then the Minkowski sum is a square.  And if the lines are non-parallel, then the Minkowski sum is a convex polygon."
   ]
  },
  {
   "cell_type": "markdown",
   "metadata": {},
   "source": [
    "iv) The Minkowski sum of two discs is a disc.  If each disc is defined by a center point and a radius, then the Minkowski sum is a disc whose center point is the sum of the two discs' center points and whose radius is the sum of the two discs' radii."
   ]
  },
  {
   "cell_type": "markdown",
   "metadata": {},
   "source": [
    "*QUESTION 3*: Recall that for the proof of Lemma. 6.2 (complexity of a trapezoidal map) we used the property that in a planar graph we have that $$E \\leq 3V - 6$$\n",
    "Here E and V are the number of edges and vertices in a planar graph, respectively. **Prove** Eq. 1.\n"
   ]
  },
  {
   "cell_type": "markdown",
   "metadata": {},
   "source": [
    "**Answer 3**:"
   ]
  },
  {
   "cell_type": "markdown",
   "metadata": {},
   "source": [
    "Let F denote the number of faces in the planar graph.  Each edge in the planar graph is adjacent to two faces, and each face has at least 3 edges adjacent to it.  Thus, $$2E \\geq 3F$$  Using Euler's formula which states that $V - E + F = 2$, we conclude the following:\n",
    "\n",
    "$$2E \\geq 3F$$\n",
    "$$2E \\geq 3(2 - V + E)$$\n",
    "$$2E \\geq 6 - 3V + 3E$$\n",
    "$$-E \\geq 6 - 3V$$\n",
    "$$ E \\leq 3V - 6$$ \n",
    "\n",
    "<p style='text-align: right;'> $\\blacksquare$ </p>"
   ]
  }
 ],
 "metadata": {
  "kernelspec": {
   "display_name": "Python 3",
   "language": "python",
   "name": "python3"
  },
  "language_info": {
   "codemirror_mode": {
    "name": "ipython",
    "version": 3
   },
   "file_extension": ".py",
   "mimetype": "text/x-python",
   "name": "python",
   "nbconvert_exporter": "python",
   "pygments_lexer": "ipython3",
   "version": "3.6.9"
  }
 },
 "nbformat": 4,
 "nbformat_minor": 2
}
